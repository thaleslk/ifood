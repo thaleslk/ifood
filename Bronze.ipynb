{
 "cells": [
  {
   "cell_type": "markdown",
   "metadata": {
    "application/vnd.databricks.v1+cell": {
     "cellMetadata": {},
     "inputWidgets": {},
     "nuid": "12f3fc93-fb32-4986-bea6-7f7352dec9c8",
     "showTitle": false,
     "tableResultSettingsMap": {},
     "title": ""
    }
   },
   "source": [
    "# Notebook - Bronze\n",
    "Notebook responsável por gerar a camada Bronze do processo ETL.\n",
    "\n",
    "A camada Bronze consiste em armazenar os dados de forma bruta, ou seja, do jeito que foram disponibilizados.\n",
    "\n",
    "No caso:\n",
    "- Os dados de pedidos estão em formato .json.gz\n",
    "- Os dados de restaurantes e usuários estão em formato .csv.gz\n",
    "- Os dados do teste A/B estão em formato .tar.gz (Este foi extraído o .csv)"
   ]
  },
  {
   "cell_type": "code",
   "execution_count": 0,
   "metadata": {
    "application/vnd.databricks.v1+cell": {
     "cellMetadata": {
      "byteLimit": 2048000,
      "rowLimit": 10000
     },
     "inputWidgets": {},
     "nuid": "95fea6de-b4ef-427a-9af7-db8d0b65b014",
     "showTitle": false,
     "tableResultSettingsMap": {},
     "title": ""
    }
   },
   "outputs": [],
   "source": [
    "# Definição de variáveis\n",
    "catalog = \"workspace\"\n",
    "schema = \"bronze\"\n",
    "volume = \"files\"\n",
    "\n",
    "path_bronze = f\"/Volumes/{catalog}/{schema}/{volume}\""
   ]
  },
  {
   "cell_type": "code",
   "execution_count": 0,
   "metadata": {
    "application/vnd.databricks.v1+cell": {
     "cellMetadata": {
      "byteLimit": 2048000,
      "rowLimit": 10000
     },
     "inputWidgets": {},
     "nuid": "08c64590-ad5a-430d-a92c-32023b6e60d4",
     "showTitle": false,
     "tableResultSettingsMap": {},
     "title": ""
    }
   },
   "outputs": [],
   "source": [
    "# Lista de URLs onde os arquivos se encontram\n",
    "urls = [\n",
    "    \"https://data-architect-test-source.s3.sa-east-1.amazonaws.com/order.json.gz\",\n",
    "    \"https://data-architect-test-source.s3.sa-east-1.amazonaws.com/restaurant.csv.gz\",\n",
    "    \"https://data-architect-test-source.s3.sa-east-1.amazonaws.com/consumer.csv.gz\",\n",
    "    \"https://data-architect-test-source.s3.sa-east-1.amazonaws.com/ab_test_ref.tar.gz\"\n",
    "]"
   ]
  },
  {
   "cell_type": "code",
   "execution_count": 0,
   "metadata": {
    "application/vnd.databricks.v1+cell": {
     "cellMetadata": {
      "byteLimit": 2048000,
      "rowLimit": 10000
     },
     "inputWidgets": {},
     "nuid": "1013ab55-428e-4dfb-b689-f00bbb830ca2",
     "showTitle": false,
     "tableResultSettingsMap": {},
     "title": ""
    }
   },
   "outputs": [],
   "source": [
    "# Download dos arquivos no schema \"bronze\" e volume \"files\"\n",
    "for url in urls:\n",
    "    dbutils.fs.cp(url, f\"{path_bronze}/{url.split('/')[-1]}\")"
   ]
  },
  {
   "cell_type": "code",
   "execution_count": 0,
   "metadata": {
    "application/vnd.databricks.v1+cell": {
     "cellMetadata": {
      "byteLimit": 2048000,
      "rowLimit": 10000
     },
     "inputWidgets": {},
     "nuid": "b2bb2d1e-7e5f-407a-9abb-f9ba8084cf8a",
     "showTitle": false,
     "tableResultSettingsMap": {},
     "title": ""
    }
   },
   "outputs": [],
   "source": [
    "# Extração do arquivo ab_test_ref.csv do arquivo ab_test_ref.tar.gz\n",
    "import tarfile\n",
    "\n",
    "with tarfile.open(f\"{path_bronze}/ab_test_ref.tar.gz\", \"r\") as tar:\n",
    "    member = tar.getmember(\"ab_test_ref.csv\")\n",
    "    tar.extract(member, path=path_bronze)"
   ]
  }
 ],
 "metadata": {
  "application/vnd.databricks.v1+notebook": {
   "computePreferences": null,
   "dashboards": [],
   "environmentMetadata": {
    "base_environment": "",
    "environment_version": "2"
   },
   "inputWidgetPreferences": null,
   "language": "python",
   "notebookMetadata": {
    "mostRecentlyExecutedCommandWithImplicitDF": {
     "commandId": -1,
     "dataframes": [
      "_sqldf"
     ]
    },
    "pythonIndentUnit": 4
   },
   "notebookName": "Bronze",
   "widgets": {}
  },
  "language_info": {
   "name": "python"
  }
 },
 "nbformat": 4,
 "nbformat_minor": 0
}
