{
 "cells": [
  {
   "cell_type": "markdown",
   "metadata": {
    "application/vnd.databricks.v1+cell": {
     "cellMetadata": {},
     "inputWidgets": {},
     "nuid": "c07671bb-e236-4bc4-910e-3af5e346c8c9",
     "showTitle": false,
     "tableResultSettingsMap": {},
     "title": ""
    }
   },
   "source": [
    "# Notebook - Silver\n",
    "Notebook responsável por gerar a camada Silver do processo ETL.\n",
    "\n",
    "A camada Silver consiste em armazenar os dados de forma limpa, ou seja, com os tipos adequados e prontos para utilização. \n",
    "\n",
    "No caso:\n",
    "- Os dados de pedidos foram divididos em duas tabelas: \n",
    "  - **`silver.order`** (dados gerais)\n",
    "  - **`silver.order_item`** (dados dos itens dos pedidos, incluindo guarnições)\n",
    "- Os dados de restaurantes estão disponíveis na tabela **`silver.restaurant`**\n",
    "- Os dados de usuários estão disponíveis na tabela **`silver.consumer`**\n",
    "- Os dados do teste A/B estão estão disponíveis na tabela **`silver.ab_test_ref`**"
   ]
  },
  {
   "cell_type": "code",
   "execution_count": 0,
   "metadata": {
    "application/vnd.databricks.v1+cell": {
     "cellMetadata": {
      "byteLimit": 2048000,
      "rowLimit": 10000
     },
     "inputWidgets": {},
     "nuid": "5477593b-2e77-48bf-bb0c-adbe6d098379",
     "showTitle": false,
     "tableResultSettingsMap": {},
     "title": ""
    }
   },
   "outputs": [],
   "source": [
    "# Import das bibliotecas\n",
    "from pyspark.sql.functions import to_date, col, when, from_json, explode, lit\n",
    "from pyspark.sql.types import *"
   ]
  },
  {
   "cell_type": "code",
   "execution_count": 0,
   "metadata": {
    "application/vnd.databricks.v1+cell": {
     "cellMetadata": {
      "byteLimit": 2048000,
      "rowLimit": 10000
     },
     "inputWidgets": {},
     "nuid": "e22ea168-0895-478a-9861-cce5454e6dbd",
     "showTitle": false,
     "tableResultSettingsMap": {},
     "title": ""
    }
   },
   "outputs": [],
   "source": [
    "# Definição das variáveis\n",
    "catalog = \"workspace\"\n",
    "schema_bronze = \"bronze\"\n",
    "schema_silver = \"silver\"\n",
    "volume = \"files\"\n",
    "\n",
    "path_bronze = f\"/Volumes/{catalog}/{schema_bronze}/{volume}\"\n",
    "path_silver = f\"{catalog}.{schema_silver}\""
   ]
  },
  {
   "cell_type": "code",
   "execution_count": 0,
   "metadata": {
    "application/vnd.databricks.v1+cell": {
     "cellMetadata": {
      "byteLimit": 2048000,
      "rowLimit": 10000
     },
     "inputWidgets": {},
     "nuid": "a5a31368-c4e2-4564-bb31-261a2bdb7278",
     "showTitle": false,
     "tableResultSettingsMap": {},
     "title": ""
    }
   },
   "outputs": [],
   "source": [
    "# Criação da tabela silver.restaurant\n",
    "df_restaurant = spark.read.csv(f\"{path_bronze}/restaurant.csv.gz\", header=True, inferSchema=True)\n",
    "df_restaurant.write.mode(\"overwrite\").saveAsTable(f\"{path_silver}.restaurant\")"
   ]
  },
  {
   "cell_type": "code",
   "execution_count": 0,
   "metadata": {
    "application/vnd.databricks.v1+cell": {
     "cellMetadata": {
      "byteLimit": 2048000,
      "rowLimit": 10000
     },
     "inputWidgets": {},
     "nuid": "53d59396-8ec2-47fa-bf4f-9e30285f591c",
     "showTitle": false,
     "tableResultSettingsMap": {},
     "title": ""
    }
   },
   "outputs": [],
   "source": [
    "# Criação da tabela silver.consumer\n",
    "df_consumer = spark.read.csv(f\"{path_bronze}/consumer.csv.gz\", header=True, inferSchema=True)\n",
    "df_consumer.write.mode(\"overwrite\").saveAsTable(f\"{path_silver}.consumer\")"
   ]
  },
  {
   "cell_type": "code",
   "execution_count": 0,
   "metadata": {
    "application/vnd.databricks.v1+cell": {
     "cellMetadata": {
      "byteLimit": 2048000,
      "rowLimit": 10000
     },
     "inputWidgets": {},
     "nuid": "74558d78-d53b-428c-97d7-227b69b84c28",
     "showTitle": false,
     "tableResultSettingsMap": {},
     "title": ""
    }
   },
   "outputs": [],
   "source": [
    "# Criação da tabela silver.ab_test_ref\n",
    "df_ab_test_ref = spark.read.csv(f\"{path_bronze}/ab_test_ref.csv\", header=True, inferSchema=True)\n",
    "df_ab_test_ref.write.mode(\"overwrite\").saveAsTable(f\"{path_silver}.ab_test_ref\")"
   ]
  },
  {
   "cell_type": "code",
   "execution_count": 0,
   "metadata": {
    "application/vnd.databricks.v1+cell": {
     "cellMetadata": {
      "byteLimit": 2048000,
      "rowLimit": 10000
     },
     "inputWidgets": {},
     "nuid": "3582864f-9c6d-4081-8e49-4e38e76304ec",
     "showTitle": false,
     "tableResultSettingsMap": {},
     "title": ""
    }
   },
   "outputs": [],
   "source": [
    "# Leitura dos dados de pedidos (Bronze)\n",
    "df_order = spark.read.json(f\"{path_bronze}/order.json.gz\")\n",
    "\n",
    "# Tratamento dos dados de customer_id e criação da coluna created_date (partição)\n",
    "df_order = df_order \\\n",
    "    .withColumn(\"customer_id\", when(col(\"customer_id\").isNull(), lit(\"null\")).otherwise(col(\"customer_id\"))) \\\n",
    "    .withColumn(\"created_date\", to_date(\"order_created_at\"))"
   ]
  },
  {
   "cell_type": "code",
   "execution_count": 0,
   "metadata": {
    "application/vnd.databricks.v1+cell": {
     "cellMetadata": {
      "byteLimit": 2048000,
      "rowLimit": 10000
     },
     "inputWidgets": {},
     "nuid": "8458c845-cd01-4c1d-b4d1-cbf2fb0b5634",
     "showTitle": false,
     "tableResultSettingsMap": {},
     "title": ""
    }
   },
   "outputs": [],
   "source": [
    "# Criação da tabela silver.order somente com os dados gerais\n",
    "df_order_info = df_order.drop(\"items\")\n",
    "df_order_info.write.mode(\"overwrite\").partitionBy(\"created_date\").saveAsTable(f\"{path_silver}.order\")"
   ]
  },
  {
   "cell_type": "code",
   "execution_count": 0,
   "metadata": {
    "application/vnd.databricks.v1+cell": {
     "cellMetadata": {
      "byteLimit": 2048000,
      "rowLimit": 10000
     },
     "inputWidgets": {},
     "nuid": "e28fed4e-fe57-4648-9d0e-0fd4528f0cc8",
     "showTitle": false,
     "tableResultSettingsMap": {},
     "title": ""
    }
   },
   "outputs": [],
   "source": [
    "# Definição do schema do item do pedido (incluindo guarnições)\n",
    "item_schema = ArrayType(StructType([\n",
    "    StructField(\"name\", StringType()),\n",
    "    StructField(\"addition\", StructType([\n",
    "        StructField(\"value\", StringType()),\n",
    "        StructField(\"currency\", StringType())\n",
    "    ])),\n",
    "    StructField(\"discount\", StructType([\n",
    "        StructField(\"value\", StringType()),\n",
    "        StructField(\"currency\", StringType())\n",
    "    ])),\n",
    "    StructField(\"quantity\", DoubleType()),\n",
    "    StructField(\"sequence\", IntegerType()),\n",
    "    StructField(\"unitPrice\", StructType([\n",
    "        StructField(\"value\", StringType()),\n",
    "        StructField(\"currency\", StringType())\n",
    "    ])),\n",
    "    StructField(\"externalId\", StringType()),\n",
    "    StructField(\"totalValue\", StructType([\n",
    "        StructField(\"value\", StringType()),\n",
    "        StructField(\"currency\", StringType())\n",
    "    ])),\n",
    "    StructField(\"customerNote\", StringType()),\n",
    "    StructField(\"garnishItems\", ArrayType(StructType([\n",
    "        StructField(\"name\", StringType()),\n",
    "        StructField(\"addition\", StructType([\n",
    "            StructField(\"value\", StringType()),\n",
    "            StructField(\"currency\", StringType())\n",
    "        ])),\n",
    "        StructField(\"discount\", StructType([\n",
    "            StructField(\"value\", StringType()),\n",
    "            StructField(\"currency\", StringType())\n",
    "        ])),\n",
    "        StructField(\"quantity\", DoubleType()),\n",
    "        StructField(\"sequence\", IntegerType()),\n",
    "        StructField(\"unitPrice\", StructType([\n",
    "            StructField(\"value\", StringType()),\n",
    "            StructField(\"currency\", StringType())\n",
    "        ])),\n",
    "        StructField(\"categoryId\", StringType()),\n",
    "        StructField(\"externalId\", StringType()),\n",
    "        StructField(\"totalValue\", StructType([\n",
    "            StructField(\"value\", StringType()),\n",
    "            StructField(\"currency\", StringType())\n",
    "        ])),\n",
    "        StructField(\"categoryName\", StringType()),\n",
    "        StructField(\"integrationId\", StringType())\n",
    "    ]))),\n",
    "    StructField(\"integrationId\", StringType()),\n",
    "    StructField(\"totalAddition\", StructType([\n",
    "        StructField(\"value\", StringType()),\n",
    "        StructField(\"currency\", StringType())\n",
    "    ])),\n",
    "    StructField(\"totalDiscount\", StructType([\n",
    "        StructField(\"value\", StringType()),\n",
    "        StructField(\"currency\", StringType())\n",
    "    ]))\n",
    "]))"
   ]
  },
  {
   "cell_type": "code",
   "execution_count": 0,
   "metadata": {
    "application/vnd.databricks.v1+cell": {
     "cellMetadata": {
      "byteLimit": 2048000,
      "rowLimit": 10000
     },
     "inputWidgets": {},
     "nuid": "377d766c-d571-4fe4-a4af-8896b54d7826",
     "showTitle": false,
     "tableResultSettingsMap": {},
     "title": ""
    }
   },
   "outputs": [],
   "source": [
    "# Explode do campo items\n",
    "df_order_explode_items = df_order.select(\n",
    "    col(\"order_id\"),\n",
    "    col(\"created_date\"),\n",
    "    explode(from_json(col(\"items\"), item_schema)).alias(\"item\")\n",
    ")"
   ]
  },
  {
   "cell_type": "code",
   "execution_count": 0,
   "metadata": {
    "application/vnd.databricks.v1+cell": {
     "cellMetadata": {
      "byteLimit": 2048000,
      "rowLimit": 10000
     },
     "inputWidgets": {},
     "nuid": "7f36af48-a678-4f0c-a014-9bee2a0cc147",
     "showTitle": false,
     "tableResultSettingsMap": {},
     "title": ""
    }
   },
   "outputs": [],
   "source": [
    "# Criação do dataframe com os dados gerais dos itens (item_type = \"item\")\n",
    "df_order_item = df_order_explode_items.select(\n",
    "    col(\"order_id\"),\n",
    "    col(\"created_date\"),\n",
    "    col(\"item.name\").alias(\"name\"),\n",
    "    col(\"item.addition.value\").alias(\"addition_value\"),\n",
    "    col(\"item.addition.currency\").alias(\"addition_currency\"),\n",
    "    col(\"item.discount.value\").alias(\"discount_value\"),\n",
    "    col(\"item.discount.currency\").alias(\"discount_currency\"),\n",
    "    col(\"item.quantity\").alias(\"quantity\"),\n",
    "    col(\"item.sequence\").alias(\"sequence\"),\n",
    "    col(\"item.unitPrice.value\").alias(\"unit_price_value\"),\n",
    "    col(\"item.unitPrice.currency\").alias(\"unit_price_currency\"),\n",
    "    col(\"item.externalId\").alias(\"external_id\"),\n",
    "    col(\"item.totalValue.value\").alias(\"total_value_value\"),\n",
    "    col(\"item.totalValue.currency\").alias(\"total_value_currency\"),\n",
    "    col(\"item.customerNote\").alias(\"customer_note\"),\n",
    "    col(\"item.integrationId\").alias(\"integration_id\"),\n",
    "    col(\"item.totalAddition.value\").alias(\"total_addition_value\"),\n",
    "    col(\"item.totalAddition.currency\").alias(\"total_addition_currency\"),\n",
    "    col(\"item.totalDiscount.value\").alias(\"total_discount_value\"),\n",
    "    col(\"item.totalDiscount.currency\").alias(\"total_discount_currency\"),\n",
    "    lit(None).cast(\"string\").alias(\"category_id\"),\n",
    "    lit(None).cast(\"string\").alias(\"category_name\"),\n",
    "    lit(\"item\").alias(\"item_type\")\n",
    ")"
   ]
  },
  {
   "cell_type": "code",
   "execution_count": 0,
   "metadata": {
    "application/vnd.databricks.v1+cell": {
     "cellMetadata": {
      "byteLimit": 2048000,
      "rowLimit": 10000
     },
     "inputWidgets": {},
     "nuid": "dd10a616-9ab5-4814-81eb-802f2296d9b8",
     "showTitle": false,
     "tableResultSettingsMap": {},
     "title": ""
    }
   },
   "outputs": [],
   "source": [
    "# Explode do campo garnishItems\n",
    "df_order_explode_garnish_items = df_order_explode_items.select(\n",
    "    col(\"order_id\"),\n",
    "    col(\"created_date\"),\n",
    "    explode(\"item.garnishItems\").alias(\"garnish\")\n",
    ")"
   ]
  },
  {
   "cell_type": "code",
   "execution_count": 0,
   "metadata": {
    "application/vnd.databricks.v1+cell": {
     "cellMetadata": {
      "byteLimit": 2048000,
      "rowLimit": 10000
     },
     "inputWidgets": {},
     "nuid": "8723d12c-f335-47e4-af11-1225c1f5ddd3",
     "showTitle": false,
     "tableResultSettingsMap": {},
     "title": ""
    }
   },
   "outputs": [],
   "source": [
    "# Criação do dataframe com os dados dos itens de guarnição (item_type = \"garnish\")\n",
    "df_order_garnish_item = df_order_explode_garnish_items.select(\n",
    "    col(\"order_id\"),\n",
    "    col(\"created_date\"),\n",
    "    col(\"garnish.name\").alias(\"name\"),\n",
    "    col(\"garnish.addition.value\").alias(\"addition_value\"),\n",
    "    col(\"garnish.addition.currency\").alias(\"addition_currency\"),\n",
    "    col(\"garnish.discount.value\").alias(\"discount_value\"),\n",
    "    col(\"garnish.discount.currency\").alias(\"discount_currency\"),\n",
    "    col(\"garnish.quantity\").alias(\"quantity\"),\n",
    "    col(\"garnish.sequence\").alias(\"sequence\"),\n",
    "    col(\"garnish.unitPrice.value\").alias(\"unit_price_value\"),\n",
    "    col(\"garnish.unitPrice.currency\").alias(\"unit_price_currency\"),\n",
    "    col(\"garnish.externalId\").alias(\"external_id\"),\n",
    "    col(\"garnish.totalValue.value\").alias(\"total_value_value\"),\n",
    "    col(\"garnish.totalValue.currency\").alias(\"total_value_currency\"),\n",
    "    lit(None).cast(\"string\").alias(\"customer_note\"),\n",
    "    col(\"garnish.integrationId\").alias(\"integration_id\"),\n",
    "    lit(None).cast(\"string\").alias(\"total_addition_value\"),\n",
    "    lit(None).cast(\"string\").alias(\"total_addition_currency\"),\n",
    "    lit(None).cast(\"string\").alias(\"total_discount_value\"),\n",
    "    lit(None).cast(\"string\").alias(\"total_discount_currency\"),\n",
    "    col(\"garnish.categoryId\").alias(\"category_id\"),\n",
    "    col(\"garnish.categoryName\").alias(\"category_name\"),\n",
    "    lit(\"garnish\").alias(\"item_type\")\n",
    ")"
   ]
  },
  {
   "cell_type": "code",
   "execution_count": 0,
   "metadata": {
    "application/vnd.databricks.v1+cell": {
     "cellMetadata": {
      "byteLimit": 2048000,
      "rowLimit": 10000
     },
     "inputWidgets": {},
     "nuid": "1aeca524-106b-44fb-a407-e41ed5b40ddb",
     "showTitle": false,
     "tableResultSettingsMap": {},
     "title": ""
    }
   },
   "outputs": [],
   "source": [
    "# União dos dois dataframes \"item\" e \"garnish\" e criação da tabela silver.order_item\n",
    "df_order_all_items = df_order_item.unionByName(df_order_garnish_item)\n",
    "df_order_all_items.write.mode(\"overwrite\").partitionBy(\"created_date\").saveAsTable(f\"{path_silver}.order_item\")"
   ]
  }
 ],
 "metadata": {
  "application/vnd.databricks.v1+notebook": {
   "computePreferences": null,
   "dashboards": [],
   "environmentMetadata": {
    "base_environment": "",
    "environment_version": "2"
   },
   "inputWidgetPreferences": null,
   "language": "python",
   "notebookMetadata": {
    "mostRecentlyExecutedCommandWithImplicitDF": {
     "commandId": 8272186098583286,
     "dataframes": [
      "_sqldf"
     ]
    },
    "pythonIndentUnit": 4
   },
   "notebookName": "Silver",
   "widgets": {}
  },
  "language_info": {
   "name": "python"
  }
 },
 "nbformat": 4,
 "nbformat_minor": 0
}
