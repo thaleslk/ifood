{
 "cells": [
  {
   "cell_type": "markdown",
   "metadata": {
    "application/vnd.databricks.v1+cell": {
     "cellMetadata": {},
     "inputWidgets": {},
     "nuid": "6620c092-8b0b-4bdf-8c23-6dbc2d841e54",
     "showTitle": false,
     "tableResultSettingsMap": {},
     "title": ""
    }
   },
   "source": [
    "# Notebook - Gold Analysis - Part 1\n",
    "Notebook utilizado para realizar as análises dos dados da camada Gold - Parte 1 do Case.\n",
    "\n",
    "No caso:\n",
    "- Geração das métricas Taxa de rentenção, Número médio de pedidos, Ticket médio e Receita média\n",
    "- Execução dos testes T (indicadores de média) e Z (indicadores de proporção) para análise de impacto significativo"
   ]
  },
  {
   "cell_type": "code",
   "execution_count": 0,
   "metadata": {
    "application/vnd.databricks.v1+cell": {
     "cellMetadata": {
      "byteLimit": 2048000,
      "rowLimit": 10000
     },
     "inputWidgets": {},
     "nuid": "7beb7ca1-de80-4b94-a523-a917856b900c",
     "showTitle": false,
     "tableResultSettingsMap": {},
     "title": ""
    }
   },
   "outputs": [],
   "source": [
    "# Import das bibliotecas\n",
    "from scipy.stats import ttest_ind\n",
    "from statsmodels.stats.proportion import proportions_ztest"
   ]
  },
  {
   "cell_type": "code",
   "execution_count": 0,
   "metadata": {
    "application/vnd.databricks.v1+cell": {
     "cellMetadata": {
      "byteLimit": 2048000,
      "implicitDf": true,
      "rowLimit": 10000
     },
     "inputWidgets": {},
     "nuid": "ff882487-4744-438e-bb2a-91553f8f4b85",
     "showTitle": false,
     "tableResultSettingsMap": {},
     "title": ""
    }
   },
   "outputs": [],
   "source": [
    "%sql\n",
    "-- Geração das métricas Taxa de rentenção, Número médio de pedidos, Ticket médio e Receita média\n",
    "select\n",
    "  is_target\n",
    "  , sum(is_retained)/count(*) as retention_rate\n",
    "  , avg(n_order) as avg_n_order\n",
    "  , sum(sum_amount)/sum(n_order) as avg_amount_per_order\n",
    "  , sum(sum_amount)/count(*) as avg_sum_amount\n",
    "  , sum(sum_amount) as total_sum_amount\n",
    "  , count(*) as n_consumers\n",
    "  , case when is_target = 'target' then n_consumers*20 else 0 end as campaign_cost\n",
    "  , total_sum_amount*0.175 as profit\n",
    "  , case when is_target = 'target' then (profit - campaign_cost) / campaign_cost else 0 end as roi\n",
    "from gold.consumer_metrics\n",
    "group by is_target"
   ]
  },
  {
   "cell_type": "code",
   "execution_count": 0,
   "metadata": {
    "application/vnd.databricks.v1+cell": {
     "cellMetadata": {
      "byteLimit": 2048000,
      "rowLimit": 10000
     },
     "inputWidgets": {},
     "nuid": "21a6e64c-b8bf-40de-8b95-b901de72f9e8",
     "showTitle": false,
     "tableResultSettingsMap": {},
     "title": ""
    }
   },
   "outputs": [],
   "source": [
    "# Carregando os dados da camada Gold e transformando em DataFrames Pandas\n",
    "df_consumer_metrics = spark.sql(\"\"\"select * from gold.consumer_metrics\"\"\")\n",
    "df_order_metrics = spark.sql(\"\"\"select * from gold.order_metrics\"\"\")\n",
    "\n",
    "df_consumer_metrics_pandas = df_consumer_metrics.toPandas()\n",
    "df_order_metrics_pandas = df_order_metrics.toPandas()"
   ]
  },
  {
   "cell_type": "code",
   "execution_count": 0,
   "metadata": {
    "application/vnd.databricks.v1+cell": {
     "cellMetadata": {
      "byteLimit": 2048000,
      "rowLimit": 10000
     },
     "inputWidgets": {},
     "nuid": "6c0775d4-c340-4cc2-9f61-3ffe6a3f4528",
     "showTitle": false,
     "tableResultSettingsMap": {},
     "title": ""
    }
   },
   "outputs": [],
   "source": [
    "# Taxa de retenção\n",
    "\n",
    "count = [\n",
    "    len(df_consumer_metrics_pandas[(df_consumer_metrics_pandas[\"is_target\"] == \"target\") & (df_consumer_metrics_pandas[\"is_retained\"] == 1)]), \n",
    "    len(df_consumer_metrics_pandas[(df_consumer_metrics_pandas[\"is_target\"] == \"control\") & (df_consumer_metrics_pandas[\"is_retained\"] == 1)]),\n",
    "]\n",
    "nobs = [\n",
    "    len(df_consumer_metrics_pandas[df_consumer_metrics_pandas[\"is_target\"] == \"target\"]), \n",
    "    len(df_consumer_metrics_pandas[df_consumer_metrics_pandas[\"is_target\"] == \"control\"])\n",
    "]\n",
    "\n",
    "# Teste Z\n",
    "stat, p_val = proportions_ztest(count, nobs)\n",
    "print(f\"P-valor (Taxa de retenção): {p_val:.4f}\")"
   ]
  },
  {
   "cell_type": "code",
   "execution_count": 0,
   "metadata": {
    "application/vnd.databricks.v1+cell": {
     "cellMetadata": {
      "byteLimit": 2048000,
      "rowLimit": 10000
     },
     "inputWidgets": {},
     "nuid": "ff57e187-a483-44de-ac6f-23f80b07e1aa",
     "showTitle": false,
     "tableResultSettingsMap": {},
     "title": ""
    }
   },
   "outputs": [],
   "source": [
    "# Número médio de pedidos\n",
    "\n",
    "target_n_order = df_consumer_metrics_pandas[df_consumer_metrics_pandas[\"is_target\"] == \"target\"][\"n_order\"]\n",
    "control_n_order = df_consumer_metrics_pandas[df_consumer_metrics_pandas[\"is_target\"] == \"control\"][\"n_order\"]\n",
    "\n",
    "# Teste T\n",
    "t_stat, p_val = ttest_ind(target_n_order, control_n_order, equal_var=False)\n",
    "print(f\"P-valor (Número médio de pedidos): {p_val:4f}\")"
   ]
  },
  {
   "cell_type": "code",
   "execution_count": 0,
   "metadata": {
    "application/vnd.databricks.v1+cell": {
     "cellMetadata": {
      "byteLimit": 2048000,
      "rowLimit": 10000
     },
     "inputWidgets": {},
     "nuid": "dc101efb-5e93-4645-b854-832f7f5e43f7",
     "showTitle": false,
     "tableResultSettingsMap": {},
     "title": ""
    }
   },
   "outputs": [],
   "source": [
    "# Ticket médio\n",
    "\n",
    "target_total_amount = df_order_metrics_pandas[df_order_metrics_pandas[\"is_target\"] == \"target\"][\"order_total_amount\"]\n",
    "control_total_amount = df_order_metrics_pandas[df_order_metrics_pandas[\"is_target\"] == \"control\"][\"order_total_amount\"]\n",
    "\n",
    "# Teste T\n",
    "t_stat, p_val = ttest_ind(target_total_amount, control_total_amount, equal_var=False)\n",
    "print(f\"P-valor (Ticket médio): {p_val:4f}\")"
   ]
  },
  {
   "cell_type": "code",
   "execution_count": 0,
   "metadata": {
    "application/vnd.databricks.v1+cell": {
     "cellMetadata": {
      "byteLimit": 2048000,
      "rowLimit": 10000
     },
     "inputWidgets": {},
     "nuid": "dae6f817-b0b6-4c9d-871e-2dc05a99e1d8",
     "showTitle": false,
     "tableResultSettingsMap": {},
     "title": ""
    }
   },
   "outputs": [],
   "source": [
    "# Receita Média\n",
    "\n",
    "target_sum_amount = df_consumer_metrics_pandas[df_consumer_metrics_pandas[\"is_target\"] == \"target\"][\"sum_amount\"]\n",
    "control_sum_amount = df_consumer_metrics_pandas[df_consumer_metrics_pandas[\"is_target\"] == \"control\"][\"sum_amount\"]\n",
    "\n",
    "# Teste T\n",
    "t_stat, p_val = ttest_ind(target_sum_amount, control_sum_amount, equal_var=False)\n",
    "print(f\"P-valor (Receita Média): {p_val:4f}\")"
   ]
  }
 ],
 "metadata": {
  "application/vnd.databricks.v1+notebook": {
   "computePreferences": null,
   "dashboards": [],
   "environmentMetadata": {
    "base_environment": "",
    "environment_version": "2"
   },
   "inputWidgetPreferences": null,
   "language": "python",
   "notebookMetadata": {
    "mostRecentlyExecutedCommandWithImplicitDF": {
     "commandId": 8669944801639302,
     "dataframes": [
      "_sqldf"
     ]
    },
    "pythonIndentUnit": 4
   },
   "notebookName": "Gold Analysis - Part 1",
   "widgets": {}
  },
  "language_info": {
   "name": "python"
  }
 },
 "nbformat": 4,
 "nbformat_minor": 0
}
