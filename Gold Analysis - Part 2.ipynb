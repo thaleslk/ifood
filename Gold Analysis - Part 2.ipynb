{
 "cells": [
  {
   "cell_type": "markdown",
   "metadata": {
    "application/vnd.databricks.v1+cell": {
     "cellMetadata": {},
     "inputWidgets": {},
     "nuid": "432bd468-1413-4659-a6c9-d62db689ebf8",
     "showTitle": false,
     "tableResultSettingsMap": {},
     "title": ""
    }
   },
   "source": [
    "# Notebook - Gold Analysis - Part 2\n",
    "Notebook utilizado para realizar as análises dos dados da camada Gold - Parte 2 do Case.\n",
    "\n",
    "No caso:\n",
    "- Geração das métricas Taxa de rentenção, Número médio de pedidos, Ticket médio e Receita média (com Segmentação)\n",
    "- Execução dos testes T (indicadores de média) e Z (indicadores de proporção) para análise de impacto significativo (com Segmentação)"
   ]
  },
  {
   "cell_type": "code",
   "execution_count": 0,
   "metadata": {
    "application/vnd.databricks.v1+cell": {
     "cellMetadata": {
      "byteLimit": 2048000,
      "rowLimit": 10000
     },
     "inputWidgets": {},
     "nuid": "a7d8b137-f3a8-4d01-9bc7-3ec9252ee363",
     "showTitle": false,
     "tableResultSettingsMap": {},
     "title": ""
    }
   },
   "outputs": [],
   "source": [
    "# Import das bibliotecas\n",
    "from scipy.stats import ttest_ind\n",
    "from statsmodels.stats.proportion import proportions_ztest"
   ]
  },
  {
   "cell_type": "code",
   "execution_count": 0,
   "metadata": {
    "application/vnd.databricks.v1+cell": {
     "cellMetadata": {
      "byteLimit": 2048000,
      "implicitDf": true,
      "rowLimit": 10000
     },
     "inputWidgets": {},
     "nuid": "21d6c1b9-dd3b-4841-9481-ba9c5f3c1353",
     "showTitle": false,
     "tableResultSettingsMap": {},
     "title": ""
    }
   },
   "outputs": [],
   "source": [
    "%sql\n",
    "-- Geração das métricas Taxa de rentenção, Número médio de pedidos, Ticket médio e Receita média (Segmento Estado)\n",
    "select\n",
    "  delivery_address_state\n",
    "  , is_target\n",
    "  , sum(is_retained)/count(*) as retention_rate\n",
    "  , avg(n_order) as avg_n_order\n",
    "  , sum(sum_amount)/sum(n_order) as avg_amount_per_order\n",
    "  , sum(sum_amount)/count(*) as avg_sum_amount\n",
    "  , sum(sum_amount) as total_sum_amount\n",
    "  , count(*) as n_consumers\n",
    "  , case when is_target = 'target' then n_consumers*20 else 0 end as campaign_cost\n",
    "  , total_sum_amount*0.175 as profit\n",
    "  , case when is_target = 'target' then (profit - campaign_cost) / campaign_cost else 0 end as roi\n",
    "from gold.consumer_segmented_metrics\n",
    "group by delivery_address_state, is_target\n",
    "order by delivery_address_state, is_target"
   ]
  },
  {
   "cell_type": "code",
   "execution_count": 0,
   "metadata": {
    "application/vnd.databricks.v1+cell": {
     "cellMetadata": {
      "byteLimit": 2048000,
      "implicitDf": true,
      "rowLimit": 10000
     },
     "inputWidgets": {},
     "nuid": "4c591ebd-68cd-4ca4-9b4f-caf7beee30c8",
     "showTitle": false,
     "tableResultSettingsMap": {},
     "title": ""
    }
   },
   "outputs": [],
   "source": [
    "%sql\n",
    "-- -- Geração das métricas Taxa de rentenção, Número médio de pedidos, Ticket médio e Receita média (Segmento Faixa de Preço)\n",
    "select\n",
    "  price_range\n",
    "  , is_target\n",
    "  , sum(is_retained)/count(*) as retention_rate\n",
    "  , avg(n_order) as avg_n_order\n",
    "  , sum(sum_amount)/sum(n_order) as avg_amount_per_order\n",
    "  , sum(sum_amount)/count(*) as avg_sum_amount\n",
    "  , sum(sum_amount) as total_sum_amount\n",
    "  , count(*) as n_consumers\n",
    "  , case when is_target = 'target' then n_consumers*20 else 0 end as campaign_cost\n",
    "  , total_sum_amount*0.175 as profit\n",
    "  , case when is_target = 'target' then (profit - campaign_cost) / campaign_cost else 0 end as roi\n",
    "from gold.consumer_segmented_metrics\n",
    "group by price_range, is_target\n",
    "order by price_range, is_target"
   ]
  },
  {
   "cell_type": "code",
   "execution_count": 0,
   "metadata": {
    "application/vnd.databricks.v1+cell": {
     "cellMetadata": {
      "byteLimit": 2048000,
      "rowLimit": 10000
     },
     "inputWidgets": {},
     "nuid": "b1f90c2f-94a6-4f44-85ec-5e18d5cf6528",
     "showTitle": false,
     "tableResultSettingsMap": {},
     "title": ""
    }
   },
   "outputs": [],
   "source": [
    "# Carregando os dados da camada Gold e transformando em DataFrames Pandas\n",
    "df_metrics = spark.sql(\"\"\"select * from gold.consumer_segmented_metrics\"\"\")\n",
    "df_order_metrics = spark.sql(\"\"\"select * from gold.order_metrics\"\"\")\n",
    "\n",
    "df_metrics_pandas = df_metrics.toPandas()\n",
    "df_order_metrics_pandas = df_order_metrics.toPandas()"
   ]
  },
  {
   "cell_type": "code",
   "execution_count": 0,
   "metadata": {
    "application/vnd.databricks.v1+cell": {
     "cellMetadata": {
      "byteLimit": 2048000,
      "rowLimit": 10000
     },
     "inputWidgets": {},
     "nuid": "511bb096-abeb-48fe-b355-a999a7c0f206",
     "showTitle": false,
     "tableResultSettingsMap": {},
     "title": ""
    }
   },
   "outputs": [],
   "source": [
    "# Definindo os grupos que serão analisados\n",
    "groups = [\n",
    "    {\"column_name\": \"delivery_address_state\", \"value\": \"DF\"},\n",
    "    {\"column_name\": \"delivery_address_state\", \"value\": \"MS\"},\n",
    "    {\"column_name\": \"delivery_address_state\", \"value\": \"MT\"},\n",
    "    {\"column_name\": \"delivery_address_state\", \"value\": \"PI\"},\n",
    "    {\"column_name\": \"delivery_address_state\", \"value\": \"RJ\"},\n",
    "    {\"column_name\": \"delivery_address_state\", \"value\": \"SC\"},\n",
    "    {\"column_name\": \"delivery_address_state\", \"value\": \"SP\"},\n",
    "    {\"column_name\": \"price_range\", \"value\": 1},\n",
    "    {\"column_name\": \"price_range\", \"value\": 5}\n",
    "]\n",
    "\n",
    "# Loop para realizar os testes de cada grupo\n",
    "for group in groups:\n",
    "    print(f\"Group: {group['column_name']} = {group['value']}\")\n",
    "    # Taxa de retenção\n",
    "\n",
    "    count = [\n",
    "        len(df_metrics_pandas[(df_metrics_pandas[\"is_target\"] == \"target\") \n",
    "                              & (df_metrics_pandas[\"is_retained\"] == 1) \n",
    "                              & (df_metrics_pandas[group[\"column_name\"]] == group[\"value\"])]), \n",
    "        len(df_metrics_pandas[(df_metrics_pandas[\"is_target\"] == \"control\") \n",
    "                              & (df_metrics_pandas[\"is_retained\"] == 1) \n",
    "                              & (df_metrics_pandas[group[\"column_name\"]] == group[\"value\"])]),\n",
    "    ]\n",
    "    nobs = [\n",
    "        len(df_metrics_pandas[(df_metrics_pandas[\"is_target\"] == \"target\") \n",
    "                              & (df_metrics_pandas[group[\"column_name\"]] == group[\"value\"])]), \n",
    "        len(df_metrics_pandas[(df_metrics_pandas[\"is_target\"] == \"control\") \n",
    "                              & (df_metrics_pandas[group[\"column_name\"]] == group[\"value\"])])\n",
    "    ]\n",
    "\n",
    "    # Teste Z\n",
    "    stat, p_val = proportions_ztest(count, nobs)\n",
    "    print(f\"P-valor (Taxa de retenção): {p_val:.4f}\")\n",
    "\n",
    "    # Número médio de pedidos\n",
    "    target_n_order = df_metrics_pandas[(df_metrics_pandas[\"is_target\"] == \"target\") \n",
    "                                       & (df_metrics_pandas[group[\"column_name\"]] == group[\"value\"])][\"n_order\"]\n",
    "    control_n_order = df_metrics_pandas[(df_metrics_pandas[\"is_target\"] == \"control\") \n",
    "                                        & (df_metrics_pandas[group[\"column_name\"]] == group[\"value\"])][\"n_order\"]\n",
    "\n",
    "    # Teste T\n",
    "    t_stat, p_val = ttest_ind(target_n_order, control_n_order, equal_var=False)\n",
    "    print(f\"P-valor (Número médio de pedidos): {p_val:4f}\")\n",
    "\n",
    "    # Ticket médio\n",
    "    target_total_amount = df_order_metrics_pandas[(df_order_metrics_pandas[\"is_target\"] == \"target\") \n",
    "                                                  & (df_metrics_pandas[group[\"column_name\"]] == group[\"value\"])][\"order_total_amount\"]\n",
    "    control_total_amount = df_order_metrics_pandas[(df_order_metrics_pandas[\"is_target\"] == \"control\") \n",
    "                                                   & (df_metrics_pandas[group[\"column_name\"]] == group[\"value\"])][\"order_total_amount\"]\n",
    "\n",
    "    # Teste T\n",
    "    t_stat, p_val = ttest_ind(target_total_amount, control_total_amount, equal_var=False)\n",
    "    print(f\"P-valor (Ticket médio): {p_val:4f}\")\n",
    "\n",
    "    # Receita Média\n",
    "    target_sum_amount = df_metrics_pandas[(df_metrics_pandas[\"is_target\"] == \"target\") \n",
    "                                          & (df_metrics_pandas[group[\"column_name\"]] == group[\"value\"])][\"sum_amount\"]\n",
    "    control_sum_amount = df_metrics_pandas[(df_metrics_pandas[\"is_target\"] == \"control\") \n",
    "                                           & (df_metrics_pandas[group[\"column_name\"]] == group[\"value\"])][\"sum_amount\"]\n",
    "\n",
    "    # Teste T\n",
    "    t_stat, p_val = ttest_ind(target_sum_amount, control_sum_amount, equal_var=False)\n",
    "    print(f\"P-valor (Receita Média): {p_val:4f}\\n\")"
   ]
  }
 ],
 "metadata": {
  "application/vnd.databricks.v1+notebook": {
   "computePreferences": null,
   "dashboards": [],
   "environmentMetadata": {
    "base_environment": "",
    "environment_version": "2"
   },
   "inputWidgetPreferences": null,
   "language": "python",
   "notebookMetadata": {
    "mostRecentlyExecutedCommandWithImplicitDF": {
     "commandId": 8337932138391851,
     "dataframes": [
      "_sqldf"
     ]
    },
    "pythonIndentUnit": 4
   },
   "notebookName": "Gold Analysis - Part 2",
   "widgets": {}
  },
  "language_info": {
   "name": "python"
  }
 },
 "nbformat": 4,
 "nbformat_minor": 0
}
