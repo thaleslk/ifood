{
 "cells": [
  {
   "cell_type": "markdown",
   "metadata": {
    "application/vnd.databricks.v1+cell": {
     "cellMetadata": {},
     "inputWidgets": {},
     "nuid": "6491a3fe-a55f-4f3f-a0ba-c2369532e909",
     "showTitle": false,
     "tableResultSettingsMap": {},
     "title": ""
    }
   },
   "source": [
    "# Notebook - Gold\n",
    "Notebook responsável por gerar a camada Gold do processo ETL.\n",
    "\n",
    "A camada Gold consiste em armazenar os dados prontos para análises, ou seja, com agregações e/ou para geração de KPIs. \n",
    "\n",
    "No caso:\n",
    "- Os dados prontos para análises de Ticket médio estão disponíveis na tabela **`gold.order_metrics`**\n",
    "- Os dados prontos para análises de Taxa de retenção, Número médio de pedidos e Receita média estão disponíveis na tabela **`gold.consumer_metrics`**\n",
    "- Os dados prontos para análises de Segmentação estão disponíveis na tabela **`gold.consumer_segmented_metrics`**"
   ]
  },
  {
   "cell_type": "code",
   "execution_count": 0,
   "metadata": {
    "application/vnd.databricks.v1+cell": {
     "cellMetadata": {
      "byteLimit": 2048000,
      "rowLimit": 10000
     },
     "inputWidgets": {},
     "nuid": "097f7043-0f22-4408-a8d7-40abdc6393eb",
     "showTitle": false,
     "tableResultSettingsMap": {},
     "title": ""
    }
   },
   "outputs": [],
   "source": [
    "# Import das bibliotecas\n",
    "from pyspark.sql.functions import when, col, lit"
   ]
  },
  {
   "cell_type": "code",
   "execution_count": 0,
   "metadata": {
    "application/vnd.databricks.v1+cell": {
     "cellMetadata": {
      "byteLimit": 2048000,
      "rowLimit": 10000
     },
     "inputWidgets": {},
     "nuid": "5252de61-34bf-46c5-b6ba-ecbeca0e15c4",
     "showTitle": false,
     "tableResultSettingsMap": {},
     "title": ""
    }
   },
   "outputs": [],
   "source": [
    "# Definição das variáveis\n",
    "catalog = \"workspace\"\n",
    "schema_gold = \"gold\"\n",
    "\n",
    "path_gold = f\"{catalog}.{schema_gold}\""
   ]
  },
  {
   "cell_type": "code",
   "execution_count": 0,
   "metadata": {
    "application/vnd.databricks.v1+cell": {
     "cellMetadata": {
      "byteLimit": 2048000,
      "rowLimit": 10000
     },
     "inputWidgets": {},
     "nuid": "9da68506-7b35-4f57-8de3-84fa8954f447",
     "showTitle": false,
     "tableResultSettingsMap": {},
     "title": ""
    }
   },
   "outputs": [],
   "source": [
    "# Criação da tabela gold.order_metrics (Ticket médio)\n",
    "df_order_metrics = spark.sql(\"\"\"\n",
    "    select\n",
    "        ab.is_target\n",
    "        , o.delivery_address_state\n",
    "        , r.price_range\n",
    "        , o.order_total_amount\n",
    "    from silver.order o\n",
    "    inner join silver.ab_test_ref ab on o.customer_id = ab.customer_id\n",
    "    inner join silver.restaurant r on o.merchant_id = r.id\n",
    "\"\"\")\n",
    "\n",
    "df_order_metrics.write.mode('overwrite').saveAsTable(f'{path_gold}.order_metrics')"
   ]
  },
  {
   "cell_type": "code",
   "execution_count": 0,
   "metadata": {
    "application/vnd.databricks.v1+cell": {
     "cellMetadata": {
      "byteLimit": 2048000,
      "rowLimit": 10000
     },
     "inputWidgets": {},
     "nuid": "30ba5136-d525-4136-be69-8520d52954a0",
     "showTitle": false,
     "tableResultSettingsMap": {},
     "title": ""
    }
   },
   "outputs": [],
   "source": [
    "# Criação da tabela gold.consumer_metrics (Taxa de retenção, Número médio de pedidos e Receita média)\n",
    "df_consumer_metrics = spark.sql(\"\"\"\n",
    "    select\n",
    "        ab.is_target\n",
    "        , ab.customer_id\n",
    "        , count(o.order_id) as n_order\n",
    "        , sum(o.order_total_amount) as sum_amount\n",
    "    from silver.order o\n",
    "    inner join silver.ab_test_ref ab on o.customer_id = ab.customer_id\n",
    "    group by ab.is_target, ab.customer_id\n",
    "\"\"\")\n",
    "\n",
    "df_consumer_metrics = df_consumer_metrics.withColumn('is_retained', when(col('n_order') > 1, lit(1)).otherwise(lit(0)))\n",
    "\n",
    "df_consumer_metrics.write.mode('overwrite').partitionBy('is_target').saveAsTable(f'{path_gold}.consumer_metrics')"
   ]
  },
  {
   "cell_type": "code",
   "execution_count": 0,
   "metadata": {
    "application/vnd.databricks.v1+cell": {
     "cellMetadata": {
      "byteLimit": 2048000,
      "rowLimit": 10000
     },
     "inputWidgets": {},
     "nuid": "9428a074-5e75-4b3d-9eb8-a78d86a80495",
     "showTitle": false,
     "tableResultSettingsMap": {},
     "title": ""
    }
   },
   "outputs": [],
   "source": [
    "# Criação da tabela gold.consumer_segmented_metrics (Segmentação)\n",
    "df_consumer_segmented_metrics = spark.sql(\"\"\"\n",
    "    select\n",
    "        ab.is_target\n",
    "        , o.delivery_address_state\n",
    "        , o.origin_platform\n",
    "        , r.price_range\n",
    "        , ab.customer_id\n",
    "        , count(o.order_id) as n_order\n",
    "        , sum(o.order_total_amount) as sum_amount\n",
    "    from silver.order o\n",
    "    inner join silver.ab_test_ref ab on o.customer_id = ab.customer_id\n",
    "    inner join silver.restaurant r on o.merchant_id = r.id\n",
    "    group by ab.is_target, o.delivery_address_state, o.origin_platform, r.price_range, ab.customer_id\n",
    "\"\"\")\n",
    "\n",
    "df_consumer_segmented_metrics = df_consumer_segmented_metrics.withColumn('is_retained', when(col('n_order') > 1, lit(1)).otherwise(lit(0)))\n",
    "\n",
    "df_consumer_segmented_metrics.write.mode('overwrite').saveAsTable(f'{path_gold}.consumer_segmented_metrics')"
   ]
  }
 ],
 "metadata": {
  "application/vnd.databricks.v1+notebook": {
   "computePreferences": null,
   "dashboards": [],
   "environmentMetadata": {
    "base_environment": "",
    "environment_version": "2"
   },
   "inputWidgetPreferences": null,
   "language": "python",
   "notebookMetadata": {
    "pythonIndentUnit": 4
   },
   "notebookName": "Gold",
   "widgets": {}
  },
  "language_info": {
   "name": "python"
  }
 },
 "nbformat": 4,
 "nbformat_minor": 0
}
